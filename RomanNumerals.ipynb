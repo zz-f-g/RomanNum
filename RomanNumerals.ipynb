{
 "cells": [
  {
   "cell_type": "markdown",
   "metadata": {},
   "source": [
    "# Roman Numerals to Integers"
   ]
  },
  {
   "cell_type": "markdown",
   "metadata": {},
   "source": [
    "Created on Sun May 23 10:02:18 2021\n",
    "\n",
    "Title: to transform string of Roman numerals to integer"
   ]
  },
  {
   "cell_type": "markdown",
   "metadata": {},
   "source": [
    "## First to convert value to letters\n",
    "\n",
    "Define the class of str_RN, restore the value and letters of a Roman Numerals."
   ]
  },
  {
   "cell_type": "code",
   "execution_count": null,
   "metadata": {},
   "outputs": [],
   "source": [
    "class RN(object):\n",
    "    dct = {1:'I', 5:'V', 10:'X', 50:'L', 100:'C', 500:'D', 1000:'M' }\n",
    "    def sep(val): # seperate an integer to the sum of its digits\n",
    "        Res = []\n",
    "        den = 10\n",
    "        while val//den != 0:\n",
    "            res = val%den\n",
    "            if res != 0:\n",
    "                Res.append(res)\n",
    "            den *= 10\n",
    "            val -= res\n",
    "        Res.append(val)\n",
    "        Res.reverse()\n",
    "        return Res\n",
    "    def int2str(val): # convert the digits to letters of Roman Numerals\n",
    "        den = 1\n",
    "        while val >= den:\n",
    "            den *= 10\n",
    "        den = den // 10\n",
    "        digit = val // den\n",
    "        one = RN.dct[den]\n",
    "        if digit in (1,2,3):\n",
    "            return one*digit\n",
    "        else:\n",
    "            five = RN.dct[den*5]\n",
    "            if digit == 4:\n",
    "                return one + five\n",
    "            elif digit in (5,6,7,8):\n",
    "                return five + one*(digit-5)\n",
    "            else:\n",
    "                ten = RN.dct[den*10]\n",
    "                if digit == 9:\n",
    "                    return one + ten\n",
    "    @property\n",
    "    def value(self): # This func need improvement that containing kernel codes\n",
    "        return self._val\n",
    "    @value.setter\n",
    "    def value(self, val): # when input value\n",
    "        if isinstance(val, int) and val > 0 and val <4000:\n",
    "            self._val = val\n",
    "        else:\n",
    "            raise ValueError('Input value need to be an int in 1~3999')\n",
    "        return val\n",
    "    @property\n",
    "    def letter(self): # convert value to letter\n",
    "        digits = RN.sep(self._val)\n",
    "        str_digits = list(map(RN.int2str,digits))\n",
    "        self._letter = ''.join(str_digits)\n",
    "        return self._letter\n",
    "    @letter.setter # when input letter, improvement that check if input is valid\n",
    "    def letter(self, ltr):\n",
    "        self._letter = ltr\n",
    "        return ltr"
   ]
  },
  {
   "cell_type": "code",
   "execution_count": null,
   "metadata": {},
   "outputs": [],
   "source": [
    "for i in range(1,4000):\n",
    "    rn = RN()\n",
    "    rn.value = i\n",
    "    print(i,rn.letter,sep = ' ', end = '\\n')"
   ]
  },
  {
   "cell_type": "code",
   "execution_count": null,
   "metadata": {},
   "outputs": [],
   "source": [
    "from functools import reduce\n",
    "class int_RN(int):\n",
    "    dct = {1:'I', 5:'V', 10:'X', 50:'L', 100:'C', 500:'D', 1000:'M'}\n",
    "    def __init__(self, str_num):\n",
    "        self._string = str_num\n",
    "    def sep_str(self): # seperate string to every digit\n",
    "        # index = 0\n",
    "        # den = 1000\n",
    "        # str_digits = []\n",
    "        # while index != len(self._string):\n",
    "        return []\n",
    "    def str2digit(str_digit): # convert digit in string to int\n",
    "        return 1\n",
    "    @property\n",
    "    def roman_num(self): # get the int property\n",
    "        return reduce(lambda x,y: 10*x + y, map(int_RN.str2digit,self.sep_str()))"
   ]
  }
 ],
 "metadata": {
  "interpreter": {
   "hash": "07efdcd4b820c98a756949507a4d29d7862823915ec7477944641bea022f4f62"
  },
  "kernelspec": {
   "display_name": "Python 3.7.0 64-bit ('base': conda)",
   "language": "python",
   "name": "python3"
  },
  "language_info": {
   "codemirror_mode": {
    "name": "ipython",
    "version": 3
   },
   "file_extension": ".py",
   "mimetype": "text/x-python",
   "name": "python",
   "nbconvert_exporter": "python",
   "pygments_lexer": "ipython3",
   "version": "3.7.0"
  },
  "orig_nbformat": 4
 },
 "nbformat": 4,
 "nbformat_minor": 2
}
